{
 "cells": [
  {
   "cell_type": "code",
   "execution_count": 1,
   "metadata": {},
   "outputs": [],
   "source": [
    "BASE_URL = 'http://localhost:8000'\n",
    "AUTH = ('admin', 'admin')\n",
    "TOKEN = '8bd704f41e0def27e0406e5ae8ec479ce575aa8f'\n",
    "URI_PREFIX = 'https://rdmorganiser.github.io/terms/'\n",
    "\n",
    "from rdmo_client import Client\n",
    "client = Client(BASE_URL, auth=AUTH)"
   ]
  },
  {
   "cell_type": "code",
   "execution_count": 2,
   "metadata": {},
   "outputs": [
    {
     "data": {
      "text/plain": [
       "[{'children': [{'comment': '',\n",
       "    'id': 45,\n",
       "    'key': 'collection',\n",
       "    'parent': 43,\n",
       "    'path': 'set/collection',\n",
       "    'uri_prefix': ''},\n",
       "   {'comment': '',\n",
       "    'id': 44,\n",
       "    'key': 'single',\n",
       "    'parent': 43,\n",
       "    'path': 'set/single',\n",
       "    'uri_prefix': ''},\n",
       "   {'comment': '',\n",
       "    'id': 79,\n",
       "    'key': 'id',\n",
       "    'parent': 43,\n",
       "    'path': 'set/id',\n",
       "    'uri_prefix': ''}],\n",
       "  'id': 43,\n",
       "  'path': 'set'},\n",
       " {'children': [{'comment': '',\n",
       "    'id': 1,\n",
       "    'key': 'single',\n",
       "    'parent': 61,\n",
       "    'path': 'individual/single',\n",
       "    'uri_prefix': ''},\n",
       "   {'comment': '',\n",
       "    'id': 2,\n",
       "    'key': 'collection',\n",
       "    'parent': 61,\n",
       "    'path': 'individual/collection',\n",
       "    'uri_prefix': ''}],\n",
       "  'id': 61,\n",
       "  'path': 'individual'},\n",
       " {'children': [{'comment': '',\n",
       "    'id': 81,\n",
       "    'key': 'text',\n",
       "    'parent': 80,\n",
       "    'path': 'conditions/text',\n",
       "    'uri_prefix': ''},\n",
       "   {'comment': '',\n",
       "    'id': 82,\n",
       "    'key': 'option',\n",
       "    'parent': 80,\n",
       "    'path': 'conditions/option',\n",
       "    'uri_prefix': ''}],\n",
       "  'id': 80,\n",
       "  'path': 'conditions'}]"
      ]
     },
     "execution_count": 2,
     "metadata": {},
     "output_type": "execute_result"
    }
   ],
   "source": [
    "client.nest_attributes()"
   ]
  },
  {
   "cell_type": "code",
   "execution_count": null,
   "metadata": {},
   "outputs": [],
   "source": []
  }
 ],
 "metadata": {
  "kernelspec": {
   "display_name": "Python 3",
   "language": "python",
   "name": "python3"
  },
  "language_info": {
   "codemirror_mode": {
    "name": "ipython",
    "version": 3
   },
   "file_extension": ".py",
   "mimetype": "text/x-python",
   "name": "python",
   "nbconvert_exporter": "python",
   "pygments_lexer": "ipython3",
   "version": "3.5.3"
  }
 },
 "nbformat": 4,
 "nbformat_minor": 2
}
