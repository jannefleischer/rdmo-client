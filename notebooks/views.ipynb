{
 "cells": [
  {
   "cell_type": "code",
   "execution_count": 5,
   "metadata": {},
   "outputs": [],
   "source": [
    "BASE_URL = 'http://localhost:8000'\n",
    "AUTH = ('admin', 'admin')\n",
    "TOKEN = '8bd704f41e0def27e0406e5ae8ec479ce575aa8f'\n",
    "URI_PREFIX = 'https://rdmorganiser.github.io/terms/'\n",
    "\n",
    "from rdmo_client import Client\n",
    "client = Client(BASE_URL, auth=AUTH)"
   ]
  },
  {
   "cell_type": "code",
   "execution_count": 6,
   "metadata": {},
   "outputs": [
    {
     "data": {
      "text/plain": [
       "[{'comment': '',\n",
       "  'help_de': 'Lorem ipsum dolor sit amet, consetetur sadipscing elitr, sed diam nonumy eirmod tempor invidunt ut labore et dolore magna aliquyam erat, sed diam voluptua.',\n",
       "  'help_en': 'Lorem ipsum dolor sit amet, consetetur sadipscing elitr, sed diam nonumy eirmod tempor invidunt ut labore et dolore magna aliquyam erat, sed diam voluptua.',\n",
       "  'id': 1,\n",
       "  'key': 'view_a',\n",
       "  'template': \"{% load view_tags %}\\n\\n<h2>Individual</h2>\\n\\n<h3>Collection</h3>\\n\\n<ul>\\n    {% render_value_list 'individual/collection/bool' %}\\n</ul>\\n<ul>\\n    {% render_value_list 'individual/collection/checkbox' %}\\n</ul>\\n<ul>\\n    {% render_value_list 'individual/collection/datetime' %}\\n</ul>\\n<ul>\\n    {% render_value_list 'individual/collection/float' %}\\n</ul>\\n<ul>\\n    {% render_value_list 'individual/collection/integer' %}\\n</ul>\\n<ul>\\n    {% render_value_list 'individual/collection/radio' %}\\n</ul>\\n<ul>\\n    {% render_value_list 'individual/collection/range' %}\\n</ul>\\n<ul>\\n    {% render_value_list 'individual/collection/select' %}\\n</ul>\\n<ul>\\n    {% render_value_list 'individual/collection/text' %}\\n</ul>\\n<ul>\\n    {% render_value_list 'individual/collection/textarea' %}\\n</ul>\\n<ul>\\n    {% render_value_list 'individual/collection/url' %}\\n</ul>\\n\\n<h2>Individual</h2>\\n\\n<h3>Single</h3>\\n\\n<p>\\n    {% render_value 'individual/single/bool' %}\\n</p>\\n<p>\\n    {% render_value 'individual/single/checkbox' %}\\n</p>\\n<p>\\n    {% render_value 'individual/single/datetime' %}\\n</p>\\n<p>\\n    {% render_value 'individual/single/float' %}\\n</p>\\n<p>\\n    {% render_value 'individual/single/integer' %}\\n</p>\\n<p>\\n    {% render_value 'individual/single/radio' %}\\n</p>\\n<p>\\n    {% render_value 'individual/single/range' %}\\n</p>\\n<p>\\n    {% render_value 'individual/single/select' %}\\n</p>\\n<p>\\n    {% render_value 'individual/single/text' %}\\n</p>\\n<p>\\n    {% render_value 'individual/single/textarea' %}\\n</p>\\n<p>\\n    {% render_value 'individual/single/url' %}\\n</p>\\n\\n<h2>Set</h2>\\n\\n{% get_values 'set/id' index=0 as sets %}\\n\\n<h3>Collection</h3>\\n\\n{% for set in sets %}\\n\\n<h4>{{ set.value }}</h4>\\n\\n<ul>\\n    {% render_value_list 'set/collection/bool' set_index=set.set_index %}\\n</ul>\\n<ul>\\n    {% render_value_list 'set/collection/checkbox' set_index=set.set_index %}\\n</ul>\\n<ul>\\n    {% render_value_list 'set/collection/datetime' set_index=set.set_index %}\\n</ul>\\n<ul>\\n    {% render_value_list 'set/collection/float' set_index=set.set_index %}\\n</ul>\\n<ul>\\n    {% render_value_list 'set/collection/integer' set_index=set.set_index %}\\n</ul>\\n<ul>\\n    {% render_value_list 'set/collection/radio' set_index=set.set_index %}\\n</ul>\\n<ul>\\n    {% render_value_list 'set/collection/range' set_index=set.set_index %}\\n</ul>\\n<ul>\\n    {% render_value_list 'set/collection/select' set_index=set.set_index %}\\n</ul>\\n<ul>\\n    {% render_value_list 'set/collection/text' set_index=set.set_index %}\\n</ul>\\n<ul>\\n    {% render_value_list 'set/collection/textarea' set_index=set.set_index %}\\n</ul>\\n<ul>\\n    {% render_value_list 'set/collection/url' set_index=set.set_index %}\\n</ul>\\n\\n{% endfor %}\\n\\n<h3>Collection</h3>\\n\\n{% for set in sets %}\\n\\n<h4>{% render_value 'set/id' set_index=set.set_index %}</h4>\\n\\n<p>\\n    {% render_value 'set/single/bool' set_index=set.set_index %}\\n</p>\\n<p>\\n    {% render_value 'set/single/checkbox' set_index=set.set_index %}\\n</p>\\n<p>\\n    {% render_value 'set/single/datetime' set_index=set.set_index %}\\n</p>\\n<p>\\n    {% render_value 'set/single/float' set_index=set.set_index %}\\n</p>\\n<p>\\n    {% render_value 'set/single/integer' set_index=set.set_index %}\\n</p>\\n<p>\\n    {% render_value 'set/single/radio' set_index=set.set_index %}\\n</p>\\n<p>\\n    {% render_value 'set/single/range' set_index=set.set_index %}\\n</p>\\n<p>\\n    {% render_value 'set/single/select' set_index=set.set_index %}\\n</p>\\n<p>\\n    {% render_value 'set/single/text' set_index=set.set_index %}\\n</p>\\n<p>\\n    {% render_value 'set/single/textarea' set_index=set.set_index %}\\n</p>\\n<p>\\n    {% render_value 'set/single/url' set_index=set.set_index %}\\n</p>\\n\\n{% endfor %}\",\n",
       "  'title_de': 'Ansicht A',\n",
       "  'title_en': 'View A',\n",
       "  'uri': 'http://example.com/terms/views/view_a',\n",
       "  'uri_prefix': ''}]"
      ]
     },
     "execution_count": 6,
     "metadata": {},
     "output_type": "execute_result"
    }
   ],
   "source": [
    "client.list_views()"
   ]
  },
  {
   "cell_type": "code",
   "execution_count": null,
   "metadata": {},
   "outputs": [],
   "source": []
  }
 ],
 "metadata": {
  "kernelspec": {
   "display_name": "Python 3",
   "language": "python",
   "name": "python3"
  },
  "language_info": {
   "codemirror_mode": {
    "name": "ipython",
    "version": 3
   },
   "file_extension": ".py",
   "mimetype": "text/x-python",
   "name": "python",
   "nbconvert_exporter": "python",
   "pygments_lexer": "ipython3",
   "version": "3.5.3"
  }
 },
 "nbformat": 4,
 "nbformat_minor": 2
}
