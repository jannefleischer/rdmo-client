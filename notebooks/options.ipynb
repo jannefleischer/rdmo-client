{
 "cells": [
  {
   "cell_type": "code",
   "execution_count": 1,
   "metadata": {},
   "outputs": [],
   "source": [
    "BASE_URL = 'http://localhost:8000'\n",
    "AUTH = ('api', 'api')\n",
    "TOKEN = '8bd704f41e0def27e0406e5ae8ec479ce575aa8f'\n",
    "URI_PREFIX = 'https://rdmorganiser.github.io/terms/'\n",
    "\n",
    "from rdmo_client import Client\n",
    "client = Client(BASE_URL, auth=AUTH)"
   ]
  },
  {
   "cell_type": "code",
   "execution_count": 2,
   "metadata": {},
   "outputs": [
    {
     "data": {
      "text/plain": [
       "[{'comment': '',\n",
       "  'conditions': [],\n",
       "  'id': 1,\n",
       "  'key': 'one_two_three',\n",
       "  'order': 0,\n",
       "  'uri_prefix': ''},\n",
       " {'comment': '',\n",
       "  'conditions': [],\n",
       "  'id': 2,\n",
       "  'key': 'one_two_three_other',\n",
       "  'order': 1,\n",
       "  'uri_prefix': ''}]"
      ]
     },
     "execution_count": 2,
     "metadata": {},
     "output_type": "execute_result"
    }
   ],
   "source": [
    "client.list_optionsets()"
   ]
  },
  {
   "cell_type": "code",
   "execution_count": 3,
   "metadata": {},
   "outputs": [
    {
     "data": {
      "text/plain": [
       "[{'comment': '',\n",
       "  'conditions': [],\n",
       "  'id': 1,\n",
       "  'key': 'one_two_three',\n",
       "  'order': 0,\n",
       "  'uri_prefix': ''},\n",
       " {'comment': '',\n",
       "  'conditions': [],\n",
       "  'id': 2,\n",
       "  'key': 'one_two_three_other',\n",
       "  'order': 1,\n",
       "  'uri_prefix': ''}]"
      ]
     },
     "execution_count": 3,
     "metadata": {},
     "output_type": "execute_result"
    }
   ],
   "source": [
    "client.list_optionsets()"
   ]
  },
  {
   "cell_type": "code",
   "execution_count": 4,
   "metadata": {},
   "outputs": [],
   "source": [
    "optionset = client.create_optionset({\n",
    "    'uri_prefix': URI_PREFIX,\n",
    "    'key': 'new',\n",
    "    'order': 666,\n",
    "})"
   ]
  },
  {
   "cell_type": "code",
   "execution_count": 5,
   "metadata": {},
   "outputs": [],
   "source": [
    "for i in range(5):\n",
    "    key = 'new-%.2i' % i\n",
    "    \n",
    "    client.create_option({\n",
    "        'uri_prefix': URI_PREFIX,\n",
    "        'key': key,\n",
    "        'order': i,\n",
    "        'optionset': optionset['id'] \n",
    "    })"
   ]
  },
  {
   "cell_type": "code",
   "execution_count": 6,
   "metadata": {},
   "outputs": [],
   "source": [
    "for option in client.list_options(optionset=optionset['id']):\n",
    "    option.update({\n",
    "        'text_en': option['key'] + '-en',\n",
    "        'text_de': option['key'] + '-de'\n",
    "    })\n",
    "    client.update_option(option['id'], option)"
   ]
  },
  {
   "cell_type": "code",
   "execution_count": 7,
   "metadata": {},
   "outputs": [],
   "source": [
    "client.destroy_optionset(optionset['id'])"
   ]
  },
  {
   "cell_type": "code",
   "execution_count": null,
   "metadata": {},
   "outputs": [],
   "source": []
  }
 ],
 "metadata": {
  "kernelspec": {
   "display_name": "Python 3",
   "language": "python",
   "name": "python3"
  },
  "language_info": {
   "codemirror_mode": {
    "name": "ipython",
    "version": 3
   },
   "file_extension": ".py",
   "mimetype": "text/x-python",
   "name": "python",
   "nbconvert_exporter": "python",
   "pygments_lexer": "ipython3",
   "version": "3.5.3"
  }
 },
 "nbformat": 4,
 "nbformat_minor": 2
}
